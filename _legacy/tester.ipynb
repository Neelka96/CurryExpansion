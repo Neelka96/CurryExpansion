{
 "cells": [
  {
   "cell_type": "code",
   "execution_count": 1,
   "id": "1330fc8a",
   "metadata": {},
   "outputs": [
    {
     "data": {
      "text/plain": [
       "True"
      ]
     },
     "execution_count": 1,
     "metadata": {},
     "output_type": "execute_result"
    }
   ],
   "source": [
    "from sodapy import Socrata\n",
    "from dotenv import load_dotenv\n",
    "from os import environ\n",
    "from pathlib import Path\n",
    "import datetime as dt\n",
    "import pandas as pd\n",
    "\n",
    "load_dotenv()"
   ]
  },
  {
   "cell_type": "markdown",
   "id": "f18cc038",
   "metadata": {},
   "source": [
    "## Cleaning"
   ]
  },
  {
   "cell_type": "code",
   "execution_count": 2,
   "id": "e1d316d3",
   "metadata": {},
   "outputs": [],
   "source": [
    "def get_df():\n",
    "    domain_src = 'data.cityofnewyork.us'\n",
    "    resource_id = '43nn-pn8j'\n",
    "\n",
    "    years = 7\n",
    "    dateLimit = (dt.datetime.now() - dt.timedelta(days = years * 365)).date().isoformat()\n",
    "    client = Socrata(domain_src, environ.get('nyc_open_key'))\n",
    "    \n",
    "    select_clause = (\n",
    "        'camis,'\n",
    "        'boro,'\n",
    "        'zipcode,'\n",
    "        'cuisine_description AS cuisine,'\n",
    "        'inspection_date,'\n",
    "        'inspection_type,'\n",
    "        'action,'\n",
    "        'violation_code,'\n",
    "        'critical_flag,'\n",
    "        'score,'\n",
    "        'census_tract,'\n",
    "        'nta,'\n",
    "        'latitude,'\n",
    "        'longitude'\n",
    "    )\n",
    "\n",
    "    where_clause = f'inspection_date > \"{dateLimit}\" AND cuisine IS NOT NULL'\n",
    "\n",
    "    return pd.DataFrame.from_records(\n",
    "        client.get(\n",
    "            resource_id,\n",
    "            select = select_clause,\n",
    "            where = where_clause,\n",
    "            limit = int(1e6)\n",
    "        )\n",
    "    )"
   ]
  },
  {
   "cell_type": "code",
   "execution_count": 4,
   "id": "baf97fc0",
   "metadata": {},
   "outputs": [],
   "source": [
    "raw_file = Path('resources/spatial_raw_open_nyc.csv')\n",
    "\n",
    "if raw_file.exists():\n",
    "    df = pd.read_csv(raw_file)\n",
    "else:\n",
    "    df = get_df()\n",
    "    df.to_csv(raw_file, header = True, index = False)"
   ]
  },
  {
   "cell_type": "code",
   "execution_count": 5,
   "id": "ea55de8c",
   "metadata": {},
   "outputs": [],
   "source": [
    "action_map = {\n",
    "    'Violations were cited in the following area(s).': 'cited_violation',\n",
    "    'Establishment Closed by DOHMH. Violations were cited in the following area(s) and those requiring immediate action were addressed.': 'cited_violations_and_closed',\n",
    "    'No violations were recorded at the time of this inspection.': 'no_violations',\n",
    "    'Establishment re-opened by DOHMH.': 'reopened',\n",
    "    'Establishment re-closed by DOHMH.': 'reclosed'\n",
    "}\n",
    "\n",
    "df['action'] = df['action'].map(action_map)"
   ]
  },
  {
   "cell_type": "code",
   "execution_count": 7,
   "id": "e990ef8d",
   "metadata": {},
   "outputs": [],
   "source": [
    "new_cols = ['inspection_type', 'inspection_subtype']\n",
    "\n",
    "df[new_cols] = (\n",
    "    df['inspection_type']\n",
    "    .str\n",
    "        .split('/', n = 1, expand = True)\n",
    "    .rename(\n",
    "        columns = {0: new_cols[0], 1: new_cols[1]}\n",
    "    )\n",
    ")\n",
    "\n",
    "for col in new_cols:\n",
    "    df[col] = df[col].str.strip()\n",
    "\n",
    "\n",
    "cols = list(df.columns)\n",
    "new_order = cols[:6]\n",
    "new_order.append(cols[-1])\n",
    "new_order.extend(cols[6:-1])\n",
    "\n",
    "df = df[new_order]"
   ]
  },
  {
   "cell_type": "code",
   "execution_count": 8,
   "id": "7465caa8",
   "metadata": {},
   "outputs": [],
   "source": [
    "mask = (df['critical_flag'] == 'Not Applicable', 'score')\n",
    "df.loc[mask] = df.loc[mask].fillna(int(0))\n",
    "\n",
    "mask = (df['action'] == 'no_violations', 'score')\n",
    "df.loc[mask] = df.loc[mask].fillna(int(0))\n",
    "\n",
    "mask = (df['violation_code'].isna())\n",
    "df.loc[mask, 'violation_code'] = df.loc[mask, 'violation_code'].fillna(str('None'))\n",
    "df.loc[mask, 'score'] = df.loc[mask, 'score'].fillna(int(0))"
   ]
  },
  {
   "cell_type": "code",
   "execution_count": 9,
   "id": "1b82e2b9",
   "metadata": {},
   "outputs": [],
   "source": [
    "df.dropna(how = 'any', inplace = True)\n",
    "\n",
    "int_cols = ['camis', 'zipcode', 'score', 'census_tract']\n",
    "df[int_cols] = df[int_cols].astype(int)\n",
    "\n",
    "date_cols = ['inspection_date']\n",
    "df[date_cols] = df[date_cols].apply(pd.to_datetime)"
   ]
  },
  {
   "cell_type": "code",
   "execution_count": 10,
   "id": "913891c6",
   "metadata": {},
   "outputs": [],
   "source": [
    "df.to_csv('spatial_cleaned_inspections.csv', header = True, index = False)"
   ]
  },
  {
   "cell_type": "markdown",
   "id": "481d7459",
   "metadata": {},
   "source": [
    "## Preprocessing"
   ]
  },
  {
   "cell_type": "code",
   "execution_count": null,
   "id": "728bf31c",
   "metadata": {},
   "outputs": [],
   "source": []
  },
  {
   "cell_type": "markdown",
   "id": "59330fbb",
   "metadata": {},
   "source": [
    "## Postgres Connection Stuff"
   ]
  },
  {
   "cell_type": "code",
   "execution_count": 21,
   "id": "738f0f2b",
   "metadata": {},
   "outputs": [],
   "source": [
    "from core.db_util import Database\n",
    "from core import get_session_factory, get_settings, get_engine\n",
    "from schemas import Inspection"
   ]
  },
  {
   "cell_type": "code",
   "execution_count": 22,
   "id": "d17d7be7",
   "metadata": {},
   "outputs": [],
   "source": [
    "db = Database(get_session_factory())"
   ]
  },
  {
   "cell_type": "code",
   "execution_count": 23,
   "id": "5b8dcf6f",
   "metadata": {},
   "outputs": [],
   "source": [
    "from sqlalchemy.dialects.postgresql import insert"
   ]
  },
  {
   "cell_type": "code",
   "execution_count": 24,
   "id": "c8ed005b",
   "metadata": {},
   "outputs": [],
   "source": [
    "with db.get_session() as session:\n",
    "    rows = df.to_dict('records')\n",
    "    stmt = insert(Inspection).values(rows)\n",
    "    stmt = stmt.on_conflict_do_nothing(\n",
    "        constraint = 'uq_inspection_natural'\n",
    "    )\n",
    "    session.execute(stmt)"
   ]
  }
 ],
 "metadata": {
  "kernelspec": {
   "display_name": ".venv",
   "language": "python",
   "name": "python3"
  },
  "language_info": {
   "codemirror_mode": {
    "name": "ipython",
    "version": 3
   },
   "file_extension": ".py",
   "mimetype": "text/x-python",
   "name": "python",
   "nbconvert_exporter": "python",
   "pygments_lexer": "ipython3",
   "version": "3.12.10"
  }
 },
 "nbformat": 4,
 "nbformat_minor": 5
}
