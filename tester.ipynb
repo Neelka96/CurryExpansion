{
 "cells": [
  {
   "cell_type": "code",
   "execution_count": 99,
   "id": "1330fc8a",
   "metadata": {},
   "outputs": [],
   "source": [
    "from sodapy import Socrata\n",
    "from dotenv import load_dotenv\n",
    "from os import environ\n",
    "import datetime as dt\n",
    "import pandas as pd"
   ]
  },
  {
   "cell_type": "code",
   "execution_count": 100,
   "id": "0f6da48f",
   "metadata": {},
   "outputs": [],
   "source": [
    "domain_src = 'data.cityofnewyork.us'\n",
    "resource_id = '43nn-pn8j'\n",
    "\n",
    "load_dotenv()\n",
    "years = 2\n",
    "dateLimit = (dt.datetime.now() - dt.timedelta(days = years * 365)).isoformat()\n",
    "client = Socrata(domain_src, environ.get('nyc_open_key'))"
   ]
  },
  {
   "cell_type": "code",
   "execution_count": 101,
   "id": "e1d316d3",
   "metadata": {},
   "outputs": [],
   "source": [
    "select_clause = (\n",
    "    'camis AS id,'\n",
    "    'boro,'\n",
    "    'zipcode,'\n",
    "    'cuisine_description AS cuisine,'\n",
    "    'inspection_date,'\n",
    "    'action,'\n",
    "    'violation_code,'\n",
    "    'critical_flag,'\n",
    "    'score,'\n",
    "    'record_date,'\n",
    "    'inspection_type,'\n",
    "    'census_tract,'\n",
    "    'nta'\n",
    ")\n",
    "\n",
    "where_clause = f'inspection_date > \"{dateLimit}\" AND cuisine IS NOT NULL'\n",
    "\n",
    "df = pd.DataFrame.from_records(\n",
    "    client.get(\n",
    "        resource_id,\n",
    "        select = select_clause,\n",
    "        where = where_clause,\n",
    "        limit = 200000\n",
    "    )\n",
    ")"
   ]
  },
  {
   "cell_type": "code",
   "execution_count": 102,
   "id": "ac87711f",
   "metadata": {},
   "outputs": [
    {
     "data": {
      "text/plain": [
       "action\n",
       "Violations were cited in the following area(s).                                                                                       157154\n",
       "Establishment Closed by DOHMH. Violations were cited in the following area(s) and those requiring immediate action were addressed.      6003\n",
       "No violations were recorded at the time of this inspection.                                                                             1198\n",
       "Establishment re-opened by DOHMH.                                                                                                        996\n",
       "Establishment re-closed by DOHMH.                                                                                                        814\n",
       "Name: count, dtype: int64"
      ]
     },
     "execution_count": 102,
     "metadata": {},
     "output_type": "execute_result"
    }
   ],
   "source": [
    "df['action'].value_counts()"
   ]
  },
  {
   "cell_type": "code",
   "execution_count": 103,
   "id": "f1c2d3dc",
   "metadata": {},
   "outputs": [],
   "source": [
    "action_map = {\n",
    "    'Violations were cited in the following area(s).': 'cited_violation',\n",
    "    'Establishment Closed by DOHMH. Violations were cited in the following area(s) and those requiring immediate action were addressed.': 'cited_violations_and_closed',\n",
    "    'No violations were recorded at the time of this inspection.': 'no_violations',\n",
    "    'Establishment re-opened by DOHMH.': 'reopened',\n",
    "    'Establishment re-closed by DOHMH.': 'reclosed'\n",
    "}"
   ]
  },
  {
   "cell_type": "code",
   "execution_count": 104,
   "id": "264f97d6",
   "metadata": {},
   "outputs": [],
   "source": [
    "df['action'] = df['action'].map(action_map)"
   ]
  },
  {
   "cell_type": "markdown",
   "id": "89549b6c",
   "metadata": {},
   "source": [
    "- Drop violation code nulls"
   ]
  },
  {
   "cell_type": "code",
   "execution_count": 105,
   "id": "28d813ee",
   "metadata": {},
   "outputs": [],
   "source": [
    "count = 0\n",
    "for i, r in df['violation_code'].value_counts().items():\n",
    "    if r < 20: count += 1"
   ]
  },
  {
   "cell_type": "code",
   "execution_count": 106,
   "id": "47e9d89e",
   "metadata": {},
   "outputs": [
    {
     "data": {
      "text/plain": [
       "count      109.000000\n",
       "mean      1513.605505\n",
       "std       3446.401553\n",
       "min          1.000000\n",
       "25%         21.000000\n",
       "50%        134.000000\n",
       "75%       1308.000000\n",
       "max      23247.000000\n",
       "Name: count, dtype: float64"
      ]
     },
     "execution_count": 106,
     "metadata": {},
     "output_type": "execute_result"
    }
   ],
   "source": [
    "df['violation_code'].value_counts().describe()"
   ]
  },
  {
   "cell_type": "code",
   "execution_count": 107,
   "id": "f9378901",
   "metadata": {},
   "outputs": [
    {
     "data": {
      "text/plain": [
       "0         13\n",
       "1          8\n",
       "2         32\n",
       "3         10\n",
       "4         40\n",
       "          ..\n",
       "166160    26\n",
       "166161    34\n",
       "166162     0\n",
       "166163     0\n",
       "166164     0\n",
       "Name: score, Length: 166165, dtype: object"
      ]
     },
     "execution_count": 107,
     "metadata": {},
     "output_type": "execute_result"
    }
   ],
   "source": [
    "df['score']"
   ]
  },
  {
   "cell_type": "code",
   "execution_count": 108,
   "id": "de9f9fa8",
   "metadata": {},
   "outputs": [
    {
     "data": {
      "text/plain": [
       "count      138.000000\n",
       "mean      1148.449275\n",
       "std       2037.987067\n",
       "min          5.000000\n",
       "25%         49.500000\n",
       "50%        357.500000\n",
       "75%       1499.250000\n",
       "max      13748.000000\n",
       "Name: count, dtype: float64"
      ]
     },
     "execution_count": 108,
     "metadata": {},
     "output_type": "execute_result"
    }
   ],
   "source": [
    "df['score'].value_counts().describe()"
   ]
  },
  {
   "cell_type": "code",
   "execution_count": 109,
   "id": "dc6fd896",
   "metadata": {},
   "outputs": [
    {
     "name": "stdout",
     "output_type": "stream",
     "text": [
      "<class 'pandas.core.frame.DataFrame'>\n",
      "RangeIndex: 166165 entries, 0 to 166164\n",
      "Data columns (total 13 columns):\n",
      " #   Column           Non-Null Count   Dtype \n",
      "---  ------           --------------   ----- \n",
      " 0   id               166165 non-null  object\n",
      " 1   boro             166165 non-null  object\n",
      " 2   zipcode          164679 non-null  object\n",
      " 3   cuisine          166165 non-null  object\n",
      " 4   inspection_date  166165 non-null  object\n",
      " 5   action           166165 non-null  object\n",
      " 6   violation_code   164983 non-null  object\n",
      " 7   critical_flag    166165 non-null  object\n",
      " 8   score            158486 non-null  object\n",
      " 9   record_date      166165 non-null  object\n",
      " 10  inspection_type  166165 non-null  object\n",
      " 11  census_tract     164394 non-null  object\n",
      " 12  nta              164378 non-null  object\n",
      "dtypes: object(13)\n",
      "memory usage: 16.5+ MB\n"
     ]
    }
   ],
   "source": [
    "df.info()"
   ]
  },
  {
   "cell_type": "code",
   "execution_count": 116,
   "id": "f9865075",
   "metadata": {},
   "outputs": [
    {
     "name": "stdout",
     "output_type": "stream",
     "text": [
      "<class 'pandas.core.frame.DataFrame'>\n",
      "RangeIndex: 166165 entries, 0 to 166164\n",
      "Data columns (total 13 columns):\n",
      " #   Column           Non-Null Count   Dtype \n",
      "---  ------           --------------   ----- \n",
      " 0   id               166165 non-null  object\n",
      " 1   boro             166165 non-null  object\n",
      " 2   zipcode          164679 non-null  object\n",
      " 3   cuisine          166165 non-null  object\n",
      " 4   inspection_date  166165 non-null  object\n",
      " 5   action           166165 non-null  object\n",
      " 6   violation_code   164983 non-null  object\n",
      " 7   critical_flag    166165 non-null  object\n",
      " 8   score            158486 non-null  object\n",
      " 9   record_date      166165 non-null  object\n",
      " 10  inspection_type  166165 non-null  object\n",
      " 11  census_tract     164394 non-null  object\n",
      " 12  nta              164378 non-null  object\n",
      "dtypes: object(13)\n",
      "memory usage: 16.5+ MB\n"
     ]
    }
   ],
   "source": [
    "df.info()"
   ]
  },
  {
   "cell_type": "code",
   "execution_count": null,
   "id": "c191bf09",
   "metadata": {},
   "outputs": [],
   "source": [
    "# df.dropna(inplace = True)"
   ]
  }
 ],
 "metadata": {
  "kernelspec": {
   "display_name": ".venv",
   "language": "python",
   "name": "python3"
  },
  "language_info": {
   "codemirror_mode": {
    "name": "ipython",
    "version": 3
   },
   "file_extension": ".py",
   "mimetype": "text/x-python",
   "name": "python",
   "nbconvert_exporter": "python",
   "pygments_lexer": "ipython3",
   "version": "3.12.10"
  }
 },
 "nbformat": 4,
 "nbformat_minor": 5
}
