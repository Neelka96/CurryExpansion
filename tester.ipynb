{
 "cells": [
  {
   "cell_type": "code",
   "execution_count": null,
   "id": "a130de66",
   "metadata": {},
   "outputs": [],
   "source": [
    "from pathlib import Path\n",
    "\n",
    "# This is the name of your environment\n",
    "venv = 'test'\n",
    "\n",
    "if not Path(venv).is_dir():\n",
    "    !python3 bootstrap_env.py {venv}"
   ]
  },
  {
   "cell_type": "code",
   "execution_count": 45,
   "id": "9169745a",
   "metadata": {},
   "outputs": [],
   "source": [
    "from bootstrap_env import main"
   ]
  },
  {
   "cell_type": "code",
   "execution_count": null,
   "id": "1330fc8a",
   "metadata": {},
   "outputs": [
    {
     "data": {
      "text/plain": [
       "True"
      ]
     },
     "execution_count": 10,
     "metadata": {},
     "output_type": "execute_result"
    }
   ],
   "source": [
    "from sodapy import Socrata\n",
    "import datetime as dt\n",
    "import pandas as pd\n",
    "import os\n",
    "\n",
    "from dotenv import load_dotenv\n",
    "load_dotenv()"
   ]
  },
  {
   "cell_type": "markdown",
   "id": "f18cc038",
   "metadata": {},
   "source": [
    "## Cleaning"
   ]
  },
  {
   "cell_type": "code",
   "execution_count": null,
   "id": "e1d316d3",
   "metadata": {},
   "outputs": [],
   "source": [
    "def get_df():\n",
    "    domain_src = 'data.cityofnewyork.us'\n",
    "    resource_id = '43nn-pn8j'\n",
    "\n",
    "    years = 7\n",
    "    dateLimit = (dt.datetime.now() - dt.timedelta(days = years * 365)).date().isoformat()\n",
    "    client = Socrata(domain_src, os.environ.get('nyc_open_key'))\n",
    "    \n",
    "    select_clause = (\n",
    "        'camis,'\n",
    "        'boro,'\n",
    "        'zipcode,'\n",
    "        'cuisine_description AS cuisine,'\n",
    "        'inspection_date,'\n",
    "        'inspection_type,'\n",
    "        'action,'\n",
    "        'violation_code,'\n",
    "        'critical_flag,'\n",
    "        'score,'\n",
    "        'census_tract,'\n",
    "        'nta,'\n",
    "        'latitude,'\n",
    "        'longitude'\n",
    "    )\n",
    "\n",
    "    where_clause = f'inspection_date > \"{dateLimit}\" AND cuisine IS NOT NULL'\n",
    "\n",
    "    return pd.DataFrame.from_records(\n",
    "        client.get(\n",
    "            resource_id,\n",
    "            select = select_clause,\n",
    "            where = where_clause,\n",
    "            limit = int(1e6)\n",
    "        )\n",
    "    )"
   ]
  },
  {
   "cell_type": "code",
   "execution_count": 52,
   "id": "baf97fc0",
   "metadata": {},
   "outputs": [],
   "source": [
    "raw_file = Path('resources/spatial_raw_open_nyc.csv')\n",
    "\n",
    "if raw_file.exists():\n",
    "    df = pd.read_csv(raw_file)\n",
    "else:\n",
    "    df = get_df()\n",
    "    df.to_csv(raw_file, header = True, index = False)"
   ]
  },
  {
   "cell_type": "code",
   "execution_count": 53,
   "id": "bcd83fb9",
   "metadata": {},
   "outputs": [
    {
     "name": "stdout",
     "output_type": "stream",
     "text": [
      "<class 'pandas.core.frame.DataFrame'>\n",
      "RangeIndex: 277236 entries, 0 to 277235\n",
      "Data columns (total 14 columns):\n",
      " #   Column           Non-Null Count   Dtype \n",
      "---  ------           --------------   ----- \n",
      " 0   camis            277236 non-null  object\n",
      " 1   boro             277236 non-null  object\n",
      " 2   zipcode          274529 non-null  object\n",
      " 3   cuisine          277236 non-null  object\n",
      " 4   inspection_date  277236 non-null  object\n",
      " 5   inspection_type  277236 non-null  object\n",
      " 6   action           277236 non-null  object\n",
      " 7   critical_flag    277236 non-null  object\n",
      " 8   score            265723 non-null  object\n",
      " 9   census_tract     274009 non-null  object\n",
      " 10  nta              273986 non-null  object\n",
      " 11  latitude         276953 non-null  object\n",
      " 12  longitude        276953 non-null  object\n",
      " 13  violation_code   275485 non-null  object\n",
      "dtypes: object(14)\n",
      "memory usage: 29.6+ MB\n"
     ]
    }
   ],
   "source": [
    "df.info()"
   ]
  },
  {
   "cell_type": "code",
   "execution_count": 54,
   "id": "ea55de8c",
   "metadata": {},
   "outputs": [],
   "source": [
    "action_map = {\n",
    "    'Violations were cited in the following area(s).': 'cited_violation',\n",
    "    'Establishment Closed by DOHMH. Violations were cited in the following area(s) and those requiring immediate action were addressed.': 'cited_violations_and_closed',\n",
    "    'No violations were recorded at the time of this inspection.': 'no_violations',\n",
    "    'Establishment re-opened by DOHMH.': 'reopened',\n",
    "    'Establishment re-closed by DOHMH.': 'reclosed'\n",
    "}\n",
    "\n",
    "df['action'] = df['action'].map(action_map)"
   ]
  },
  {
   "cell_type": "code",
   "execution_count": 57,
   "id": "c2c98f04",
   "metadata": {},
   "outputs": [
    {
     "name": "stdout",
     "output_type": "stream",
     "text": [
      "<class 'pandas.core.frame.DataFrame'>\n",
      "RangeIndex: 277236 entries, 0 to 277235\n",
      "Data columns (total 14 columns):\n",
      " #   Column           Non-Null Count   Dtype \n",
      "---  ------           --------------   ----- \n",
      " 0   camis            277236 non-null  object\n",
      " 1   boro             277236 non-null  object\n",
      " 2   zipcode          274529 non-null  object\n",
      " 3   cuisine          277236 non-null  object\n",
      " 4   inspection_date  277236 non-null  object\n",
      " 5   inspection_type  277236 non-null  object\n",
      " 6   action           277236 non-null  object\n",
      " 7   critical_flag    277236 non-null  object\n",
      " 8   score            265723 non-null  object\n",
      " 9   census_tract     274009 non-null  object\n",
      " 10  nta              273986 non-null  object\n",
      " 11  latitude         276953 non-null  object\n",
      " 12  longitude        276953 non-null  object\n",
      " 13  violation_code   275485 non-null  object\n",
      "dtypes: object(14)\n",
      "memory usage: 29.6+ MB\n"
     ]
    }
   ],
   "source": [
    "df.info()"
   ]
  },
  {
   "cell_type": "code",
   "execution_count": 58,
   "id": "e990ef8d",
   "metadata": {},
   "outputs": [],
   "source": [
    "new_cols = ['inspection_type', 'inspection_subtype']\n",
    "\n",
    "df[new_cols] = (\n",
    "    df['inspection_type']\n",
    "    .str\n",
    "        .split('/', n = 1, expand = True)\n",
    "    .rename(\n",
    "        columns = {0: new_cols[0], 1: new_cols[1]}\n",
    "    )\n",
    ")\n",
    "\n",
    "for col in new_cols:\n",
    "    df[col] = df[col].str.strip()"
   ]
  },
  {
   "cell_type": "code",
   "execution_count": 126,
   "id": "6649b0d4",
   "metadata": {},
   "outputs": [],
   "source": [
    "cols = list(df.columns)\n",
    "new_order = cols[:6]\n",
    "new_order.extend(reversed(cols[-2:]))\n",
    "new_order.extend(cols[6:-2])\n",
    "\n",
    "df = df[new_order]"
   ]
  },
  {
   "cell_type": "code",
   "execution_count": 130,
   "id": "213e7e2c",
   "metadata": {},
   "outputs": [],
   "source": [
    "df = df.convert_dtypes()"
   ]
  },
  {
   "cell_type": "code",
   "execution_count": 133,
   "id": "7465caa8",
   "metadata": {},
   "outputs": [],
   "source": [
    "mask = (df['critical_flag'] == 'Not Applicable', 'score')\n",
    "df.loc[mask] = df.loc[mask].fillna('0')\n",
    "\n",
    "mask = (df['action'] == 'no_violations', 'score')\n",
    "df.loc[mask] = df.loc[mask].fillna('0')\n",
    "\n",
    "mask = (df['violation_code'].isna())\n",
    "df.loc[mask, 'violation_code'] = df.loc[mask, 'violation_code'].fillna('None')\n",
    "df.loc[mask, 'score'] = df.loc[mask, 'score'].fillna('0')"
   ]
  },
  {
   "cell_type": "code",
   "execution_count": 135,
   "id": "1b82e2b9",
   "metadata": {},
   "outputs": [],
   "source": [
    "df.dropna(how = 'any', inplace = True)\n",
    "\n",
    "int_cols = ['camis', 'zipcode', 'score', 'census_tract']\n",
    "df[int_cols] = df[int_cols].astype(int)\n",
    "\n",
    "flt_cols = ['latitude', 'longitude']\n",
    "df[flt_cols] = df[flt_cols].astype(float).round(5)\n",
    "\n",
    "date_cols = ['inspection_date']\n",
    "df[date_cols] = df[date_cols].apply(pd.to_datetime)"
   ]
  },
  {
   "cell_type": "code",
   "execution_count": 136,
   "id": "3729ce0a",
   "metadata": {},
   "outputs": [
    {
     "name": "stdout",
     "output_type": "stream",
     "text": [
      "<class 'pandas.core.frame.DataFrame'>\n",
      "Index: 265049 entries, 0 to 277235\n",
      "Data columns (total 15 columns):\n",
      " #   Column              Non-Null Count   Dtype         \n",
      "---  ------              --------------   -----         \n",
      " 0   camis               265049 non-null  int64         \n",
      " 1   boro                265049 non-null  string        \n",
      " 2   zipcode             265049 non-null  int64         \n",
      " 3   cuisine             265049 non-null  string        \n",
      " 4   inspection_date     265049 non-null  datetime64[ns]\n",
      " 5   inspection_type     265049 non-null  string        \n",
      " 6   inspection_subtype  265049 non-null  string        \n",
      " 7   violation_code      265049 non-null  string        \n",
      " 8   action              265049 non-null  string        \n",
      " 9   critical_flag       265049 non-null  string        \n",
      " 10  score               265049 non-null  int64         \n",
      " 11  census_tract        265049 non-null  int64         \n",
      " 12  nta                 265049 non-null  string        \n",
      " 13  latitude            265049 non-null  float64       \n",
      " 14  longitude           265049 non-null  float64       \n",
      "dtypes: datetime64[ns](1), float64(2), int64(4), string(8)\n",
      "memory usage: 32.4 MB\n"
     ]
    }
   ],
   "source": [
    "df.info()"
   ]
  },
  {
   "cell_type": "code",
   "execution_count": 137,
   "id": "913891c6",
   "metadata": {},
   "outputs": [],
   "source": [
    "df.to_csv('spatial_cleaned_inspections.csv', header = True, index = False)"
   ]
  },
  {
   "cell_type": "code",
   "execution_count": 1,
   "id": "4af4d6e1",
   "metadata": {},
   "outputs": [],
   "source": [
    "import pandas as pd\n",
    "df = pd.read_csv('spatial_cleaned_inspections.csv')"
   ]
  },
  {
   "cell_type": "code",
   "execution_count": 4,
   "id": "4aac90da",
   "metadata": {},
   "outputs": [
    {
     "name": "stdout",
     "output_type": "stream",
     "text": [
      "<class 'pandas.core.frame.DataFrame'>\n",
      "RangeIndex: 265049 entries, 0 to 265048\n",
      "Data columns (total 15 columns):\n",
      " #   Column              Non-Null Count   Dtype  \n",
      "---  ------              --------------   -----  \n",
      " 0   camis               265049 non-null  int64  \n",
      " 1   boro                265049 non-null  object \n",
      " 2   zipcode             265049 non-null  int64  \n",
      " 3   cuisine             265049 non-null  object \n",
      " 4   inspection_date     265049 non-null  object \n",
      " 5   inspection_type     265049 non-null  object \n",
      " 6   inspection_subtype  265049 non-null  object \n",
      " 7   violation_code      263356 non-null  object \n",
      " 8   action              265049 non-null  object \n",
      " 9   critical_flag       265049 non-null  object \n",
      " 10  score               265049 non-null  int64  \n",
      " 11  census_tract        265049 non-null  int64  \n",
      " 12  nta                 265049 non-null  object \n",
      " 13  latitude            265049 non-null  float64\n",
      " 14  longitude           265049 non-null  float64\n",
      "dtypes: float64(2), int64(4), object(9)\n",
      "memory usage: 30.3+ MB\n"
     ]
    }
   ],
   "source": [
    "getattr(df, 'info')()"
   ]
  },
  {
   "cell_type": "code",
   "execution_count": 7,
   "id": "f67a4d3a",
   "metadata": {},
   "outputs": [
    {
     "name": "stdout",
     "output_type": "stream",
     "text": [
      "<class 'pandas.core.frame.DataFrame'>\n",
      "RangeIndex: 265049 entries, 0 to 265048\n",
      "Data columns (total 15 columns):\n",
      " #   Column              Non-Null Count   Dtype  \n",
      "---  ------              --------------   -----  \n",
      " 0   camis               265049 non-null  int64  \n",
      " 1   boro                265049 non-null  object \n",
      " 2   zipcode             265049 non-null  int64  \n",
      " 3   cuisine             265049 non-null  object \n",
      " 4   inspection_date     265049 non-null  object \n",
      " 5   inspection_type     265049 non-null  object \n",
      " 6   inspection_subtype  265049 non-null  object \n",
      " 7   violation_code      263356 non-null  object \n",
      " 8   action              265049 non-null  object \n",
      " 9   critical_flag       265049 non-null  object \n",
      " 10  score               265049 non-null  int64  \n",
      " 11  census_tract        265049 non-null  int64  \n",
      " 12  nta                 265049 non-null  object \n",
      " 13  latitude            265049 non-null  float64\n",
      " 14  longitude           265049 non-null  float64\n",
      "dtypes: float64(2), int64(4), object(9)\n",
      "memory usage: 30.3+ MB\n"
     ]
    }
   ],
   "source": [
    "df.info()"
   ]
  },
  {
   "cell_type": "markdown",
   "id": "481d7459",
   "metadata": {},
   "source": [
    "<!-- ## Preprocessing -->"
   ]
  },
  {
   "cell_type": "markdown",
   "id": "59330fbb",
   "metadata": {},
   "source": [
    "### Postgres Connection Stuff"
   ]
  },
  {
   "cell_type": "code",
   "execution_count": 3,
   "id": "738f0f2b",
   "metadata": {},
   "outputs": [],
   "source": [
    "from core import Database, get_session_factory, get_settings, get_engine\n",
    "from schemas import Inspection\n",
    "\n",
    "from sqlalchemy.dialects.postgresql import insert"
   ]
  },
  {
   "cell_type": "code",
   "execution_count": 4,
   "id": "d17d7be7",
   "metadata": {},
   "outputs": [],
   "source": [
    "db = Database(get_session_factory())"
   ]
  },
  {
   "cell_type": "code",
   "execution_count": 5,
   "id": "185b95c0",
   "metadata": {},
   "outputs": [],
   "source": [
    "rows = df.to_dict('records')\n",
    "with db.get_session() as session:\n",
    "    stmt = insert(Inspection).values(rows)\n",
    "    stmt = stmt.on_conflict_do_nothing(\n",
    "        constraint = 'uq_inspection_natural'\n",
    "    )\n",
    "    session.execute(stmt)"
   ]
  },
  {
   "cell_type": "code",
   "execution_count": null,
   "id": "2a502efd",
   "metadata": {},
   "outputs": [],
   "source": [
    "from ETL.extractors.sql_db import Postgres_Features\n",
    "df = Postgres_Features().extract()"
   ]
  },
  {
   "cell_type": "code",
   "execution_count": 2,
   "id": "c1409a9b",
   "metadata": {},
   "outputs": [
    {
     "name": "stdout",
     "output_type": "stream",
     "text": [
      "<class 'pandas.core.frame.DataFrame'>\n",
      "RangeIndex: 264765 entries, 0 to 264764\n",
      "Data columns (total 16 columns):\n",
      " #   Column              Non-Null Count   Dtype         \n",
      "---  ------              --------------   -----         \n",
      " 0   id                  264765 non-null  int64         \n",
      " 1   camis               264765 non-null  int64         \n",
      " 2   boro                264765 non-null  object        \n",
      " 3   zipcode             264765 non-null  int64         \n",
      " 4   cuisine             264765 non-null  object        \n",
      " 5   inspection_date     264765 non-null  datetime64[ns]\n",
      " 6   inspection_type     264765 non-null  object        \n",
      " 7   inspection_subtype  264765 non-null  object        \n",
      " 8   action              264765 non-null  object        \n",
      " 9   violation_code      264765 non-null  object        \n",
      " 10  critical_flag       264765 non-null  object        \n",
      " 11  score               264765 non-null  int64         \n",
      " 12  census_tract        264765 non-null  int64         \n",
      " 13  nta                 264765 non-null  object        \n",
      " 14  latitude            264765 non-null  float64       \n",
      " 15  longitude           264765 non-null  float64       \n",
      "dtypes: datetime64[ns](1), float64(2), int64(5), object(8)\n",
      "memory usage: 32.3+ MB\n"
     ]
    }
   ],
   "source": [
    "df.info()"
   ]
  },
  {
   "cell_type": "code",
   "execution_count": null,
   "id": "4782855c",
   "metadata": {},
   "outputs": [],
   "source": []
  }
 ],
 "metadata": {
  "kernelspec": {
   "display_name": ".venv",
   "language": "python",
   "name": "python3"
  },
  "language_info": {
   "codemirror_mode": {
    "name": "ipython",
    "version": 3
   },
   "file_extension": ".py",
   "mimetype": "text/x-python",
   "name": "python",
   "nbconvert_exporter": "python",
   "pygments_lexer": "ipython3",
   "version": "3.12.10"
  }
 },
 "nbformat": 4,
 "nbformat_minor": 5
}
