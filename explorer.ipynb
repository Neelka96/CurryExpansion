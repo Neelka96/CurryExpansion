{
 "cells": [
  {
   "cell_type": "code",
   "execution_count": null,
   "id": "26ca51d2",
   "metadata": {},
   "outputs": [],
   "source": [
    "# import yaml, importlib\n",
    "# from dotenv import load_dotenv\n",
    "# from pprint import pprint"
   ]
  },
  {
   "cell_type": "code",
   "execution_count": null,
   "id": "4c8c2be0",
   "metadata": {},
   "outputs": [],
   "source": [
    "# load_dotenv()\n",
    "# file_path = 'config/pipeline.yml'"
   ]
  },
  {
   "cell_type": "code",
   "execution_count": null,
   "id": "5337c69a",
   "metadata": {},
   "outputs": [],
   "source": [
    "# # Import dependencies\n",
    "# import os, re\n",
    "\n",
    "# ENV_REF = re.compile(r'\\$\\{env:([A-Z0-9_]+)\\}')\n",
    "\n",
    "# def expand_env(obj):\n",
    "#     if isinstance(obj, dict):\n",
    "#         return {k: expand_env(v) for k, v in obj.items()}\n",
    "#     if isinstance(obj, list):\n",
    "#         return [expand_env(v) for v in obj]\n",
    "#     if isinstance(obj, str):\n",
    "#         m = ENV_REF.match(obj)\n",
    "#         if m:\n",
    "#             return os.getenv(m.group(1))\n",
    "#     return obj"
   ]
  },
  {
   "cell_type": "code",
   "execution_count": null,
   "id": "39693205",
   "metadata": {},
   "outputs": [],
   "source": [
    "# raw_cfg = yaml.safe_load(open(file_path, 'r'))"
   ]
  },
  {
   "cell_type": "code",
   "execution_count": null,
   "id": "931d331d",
   "metadata": {},
   "outputs": [],
   "source": [
    "# pprint(expand_env(raw_cfg))"
   ]
  },
  {
   "cell_type": "code",
   "execution_count": null,
   "id": "0a74c505",
   "metadata": {},
   "outputs": [],
   "source": []
  }
 ],
 "metadata": {
  "kernelspec": {
   "display_name": "base",
   "language": "python",
   "name": "python3"
  },
  "language_info": {
   "codemirror_mode": {
    "name": "ipython",
    "version": 3
   },
   "file_extension": ".py",
   "mimetype": "text/x-python",
   "name": "python",
   "nbconvert_exporter": "python",
   "pygments_lexer": "ipython3",
   "version": "3.12.2"
  }
 },
 "nbformat": 4,
 "nbformat_minor": 5
}
